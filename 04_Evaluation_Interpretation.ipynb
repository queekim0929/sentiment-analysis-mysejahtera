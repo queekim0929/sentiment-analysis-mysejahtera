{
 "cells": [
  {
   "cell_type": "markdown",
   "id": "4c7d3ccf",
   "metadata": {},
   "source": [
    "# Sentiment Analysis for MySejahtera App\n",
    "### Group members : \n",
    "### Ong Horng Neng (S2191604) , Devayani a/p Balkrishnan (22056764), Oscar Looi Koon Seng (S2174066), Tan Jun Ren (22050099), Teo Kwee Kim (S2181984)"
   ]
  },
  {
   "cell_type": "markdown",
   "id": "f6ae5404",
   "metadata": {},
   "source": [
    "# Evaluation and Interpretation"
   ]
  },
  {
   "cell_type": "markdown",
   "id": "b5de37c5",
   "metadata": {},
   "source": [
    "## Content\n",
    "- [Evaluate Results](#Evaluate-Results)\n",
    "  - [Assessment of Data Mining Results](#Assessment-of-Data-Mining-Results)\n",
    "  - [Approved Model](#Approved-Model)\n",
    "- [Review Process](#Review-Process)\n",
    "- [Determine Next Steps](#Determine-Next-Steps)"
   ]
  },
  {
   "cell_type": "markdown",
   "id": "92387e81",
   "metadata": {},
   "source": [
    "## Evaluate Results"
   ]
  },
  {
   "cell_type": "markdown",
   "id": "8acd480c",
   "metadata": {},
   "source": [
    "### Assessment of Data Mining Results\n",
    "When reviewing the business sucess criteria, the project was able to collect 10000 rows of data. As for the pain points, the results of the topic modelling revealed that the primary pain points were:<br>\n",
    "\n",
    "**a) Battery drain**<br>\n",
    "The main concerns were internet and bluetooth connection. For Wi-Fi, GPS itself does not require an internet connection. However, the information about infectious diseases in an area is sent via the app and requires an internet connection. Additionally, from 26 December 2021, the Health Ministry had introduced a new feature in MySejahtera called ‘MySJ Trace‘ which was essentially a new-and-improved way to contact-trace. This feature required the use of Bluetooth and Location Tracking at all times. Many consumers believe that both these scenarios cause phone battery to drain quicker.<br>\n",
    "\n",
    "Despite common belief, it has been found that keeping a device’s Bluetooth on without connecting to another device only consumes about 1.8% more power than if it was turned off. For scale, this allows for around 10 – 15 mins of extra time for a device that typically gives five hours of screen-on time. If WiFi is not actively being used it uses no power. It scans for networks every 15 seconds when the phone is not asleep, but that's just a receiver, and uses no measurable power (less than 1 mw). This pain point can potentially be overcome by releasing a breakdown of MySejahtera's average battery usage to consumers.<br>\n",
    "\n",
    "**b) COVID vaccine status update problems**<br>\n",
    "Some users had trouble with updating their vaccine statuses after getting vaccinated. Uninstalling and reinstalling the app did not fix the issue. MySejahtera was a necessity to be able to enter premises and keep the citizens safe. Thus, not being able to access vaccination records was a understandably huge concern to users. \n",
    "\n",
    "One way to overcome this would be by having the personnel at the vaccination centers be trained in updating the vaccination status of users manually. This would also reduce the number of complaints that are directed towards the HelpDesk team to allow them time and resources to deal with other user issues.<br>\n",
    "\n",
    "\n",
    "**c) Sign-in problems**<br>\n",
    "Several consumers reported sign-in issues, primarily that the password reset option does not work as expected. This is either due to not receiving a reset link or the link leading to the login page instead of the password reset page. Many of these reviews were responded to with an auto-reply that requested the user to reset their password or register new ID at https://mysejahtera.malaysia.gov.my/register/. Users further reported that this solution did not work for them.<br>\n",
    "\n",
    "Both the responses on the MySejahtera HelpDesk and the Google PlayStore review section lead to the same solution that did not help the consumers. As such, the developers need to create a better architecture for the way passwords are managed. There is also an option to have the MySJ ID be connected to the user's IC instead of their phone numbers/e-mails which could be changed anytime. Additionally, mutiple different solutions should be made available for the users to try based on their specific situation/problem. <br>\n",
    "\n",
    "### Approved Model\n",
    "As the performance of most machine learning models performed poorer in Experiment 1 than in Experiment 2, an overview of the models' performance in only Experiment 2 are shown below.\n",
    "\n",
    "<br>\n",
    "\n",
    "|                                                            \t| Accuracy on Training Set \t| Accuracy on Validation Set| Recall on Validation Set     \t| \n",
    "|:-------------------------------------------------------------\t|:-------------------------:|:-------------------------:|:----------------------------:\t|\n",
    "| Count Vectorizer & Linear Regression                       \t| 0.81285                  \t| 0.76426                   | 0.77046                      \t| \n",
    "| Count Vectorizer & K Nearest Neighbor                        \t| 0.75763                  \t| 0.64839                   | 0.73675                      \t| \n",
    "| Count Vectorizer & Decision Tree                             \t| 0.97345                  \t| 0.67669                   | 0.74745                      \t| \n",
    "| Count Vectorizer & Support Vector Machine                    \t| 0.85745                  \t| 0.73375                   | 0.76629                      \t| \n",
    "| Count Vectorizer & Random Forest                             \t| 0.97345                  \t| 0.76205                   | 0.77155                      \t| \n",
    "| Count Vectorizer & XGBoost                                   \t| 0.88426                  \t| 0.75763                   | 0.76145                      \t|\n",
    "| Count Vectorizer & Multinomial Naive Bayes                   \t| 0.76905                  \t| 0.74613                   | 0.79774                      \t| \n",
    "| TF-IDF Vectorizer & Logistic Regression                      \t| 0.75259                  \t| 0.73994                   | 0.71137                      \t| \n",
    "| TF-IDF Vectorizer & K Nearest Neighbor                        | 0.81364                  \t| 0.66077                   | 0.65116                      \t| \n",
    "| TF-IDF Vectorizer & Decision Tree                            \t| 0.97345                  \t| 0.68819                   | 0.74796                      \t| \n",
    "| TF-IDF Vectorizer & Support Vector Machine                   \t| 0.82559                  \t| 0.75409                   | 0.76340                     \t| \n",
    "| TF-IDF Vectorizer & Random Forest                            \t| 0.97345                  \t| 0.75542                   | 0.76723                      \t| \n",
    "| TF-IDF Vectorizer & XGBoost                                  \t| 0.91426                  \t| 0.75409                   | 0.76085                      \t| \n",
    "| TF-IDF Vectorizer & Multinomial Naive Bayes                  \t| 0.78975                  \t| 0.76471                   | 0.77251                      \t|                   \t|\n",
    "\n",
    "<br>\n",
    "\n",
    "|                                                            \t| Accuracy on Test Set \t| Recall on Test Set    \t| \n",
    "|:-------------------------------------------------------------\t|:-------------------------:|:-------------------------:|\n",
    "| **Production Model:** TF-IDF Vectorizer & Multinomial Naive Bayes       | 0.7752                 \t| 0.8607                 | \n",
    "<br>\n",
    "\n",
    "\n",
    "The TF-IDF Vectorizer & Multinomial Naive Bayes was chosen as our production model as it achieved the highest accuracy and recall on the validation set. The model attained an accuracy of 0.76471 on the validation data and a recall of 0.77251. When scored on the test set, the production model attained an accuracy of  0.7752 and recall of 0.8607. As the model is able to correctly predict 86% of the actual negative reviews on the Google PlayStore, MySejahtera's product managers will now be able to identify negative reviews and understand the pain points among dissatisfied customers. "
   ]
  },
  {
   "cell_type": "markdown",
   "id": "b1deb3eb",
   "metadata": {},
   "source": [
    "## Review Process\n",
    "One improvement that could be made to the model is to increase the number of rows of data. The current project utilized 10k rows of data which yielded moderate accuracy and recall overall. Increasing the data rows to 100k could improve these results. "
   ]
  },
  {
   "cell_type": "markdown",
   "id": "a1b25142",
   "metadata": {},
   "source": [
    "## Determine Next Steps\n",
    "The model will be deployed as a web app using Gradio. Gradio is a free and open-source Python library that can be used to develop an easy-to-use customizable component demo for machine learning models that anyone can use anywhere. Gradio was chosen for its simplicity of use and Python compatibility. "
   ]
  }
 ],
 "metadata": {
  "kernelspec": {
   "display_name": "Python 3 (ipykernel)",
   "language": "python",
   "name": "python3"
  },
  "language_info": {
   "codemirror_mode": {
    "name": "ipython",
    "version": 3
   },
   "file_extension": ".py",
   "mimetype": "text/x-python",
   "name": "python",
   "nbconvert_exporter": "python",
   "pygments_lexer": "ipython3",
   "version": "3.9.13"
  }
 },
 "nbformat": 4,
 "nbformat_minor": 5
}
